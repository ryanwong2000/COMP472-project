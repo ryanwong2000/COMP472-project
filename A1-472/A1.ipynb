{
 "cells": [
  {
   "cell_type": "markdown",
   "metadata": {},
   "source": [
    "Import Librarys"
   ]
  },
  {
   "cell_type": "code",
   "execution_count": 23,
   "metadata": {},
   "outputs": [],
   "source": [
    "import pandas as pd\n",
    "import numpy as np\n",
    "import scikitplot as skplt"
   ]
  },
  {
   "cell_type": "markdown",
   "metadata": {},
   "source": [
    "Load The CSVs to DFs"
   ]
  },
  {
   "cell_type": "code",
   "execution_count": 24,
   "metadata": {},
   "outputs": [],
   "source": [
    "penguindf = pd.read_csv('penguins.csv')\n",
    "abalonedf = pd.read_csv('abalone.csv')"
   ]
  },
  {
   "cell_type": "code",
   "execution_count": 29,
   "metadata": {},
   "outputs": [
    {
     "name": "stdout",
     "output_type": "stream",
     "text": [
      "     culmen_length_mm  culmen_depth_mm  flipper_length_mm  body_mass_g  \\\n",
      "0                39.1             18.7                181         3750   \n",
      "1                39.5             17.4                186         3800   \n",
      "2                40.3             18.0                195         3250   \n",
      "3                36.7             19.3                193         3450   \n",
      "4                39.3             20.6                190         3650   \n",
      "..                ...              ...                ...          ...   \n",
      "328              47.2             13.7                214         4925   \n",
      "329              46.8             14.3                215         4850   \n",
      "330              50.4             15.7                222         5750   \n",
      "331              45.2             14.8                212         5200   \n",
      "332              49.9             16.1                213         5400   \n",
      "\n",
      "     species_Chinstrap  species_Gentoo  island_Dream  island_Torgersen  \\\n",
      "0                    0               0             0                 1   \n",
      "1                    0               0             0                 1   \n",
      "2                    0               0             0                 1   \n",
      "3                    0               0             0                 1   \n",
      "4                    0               0             0                 1   \n",
      "..                 ...             ...           ...               ...   \n",
      "328                  0               1             0                 0   \n",
      "329                  0               1             0                 0   \n",
      "330                  0               1             0                 0   \n",
      "331                  0               1             0                 0   \n",
      "332                  0               1             0                 0   \n",
      "\n",
      "     sex_MALE  \n",
      "0           1  \n",
      "1           0  \n",
      "2           0  \n",
      "3           0  \n",
      "4           1  \n",
      "..        ...  \n",
      "328         0  \n",
      "329         0  \n",
      "330         1  \n",
      "331         0  \n",
      "332         1  \n",
      "\n",
      "[333 rows x 9 columns]\n"
     ]
    }
   ],
   "source": [
    "penguin_columns_to_encode = ['species','island','sex']\n",
    "penguindf_encoded = pd.get_dummies(penguindf, columns=penguin_columns_to_encode, drop_first=True)\n",
    "print(penguindf_encoded)\n"
   ]
  }
 ],
 "metadata": {
  "kernelspec": {
   "display_name": "Python 3",
   "language": "python",
   "name": "python3"
  },
  "language_info": {
   "codemirror_mode": {
    "name": "ipython",
    "version": 3
   },
   "file_extension": ".py",
   "mimetype": "text/x-python",
   "name": "python",
   "nbconvert_exporter": "python",
   "pygments_lexer": "ipython3",
   "version": "3.10.10"
  }
 },
 "nbformat": 4,
 "nbformat_minor": 2
}
